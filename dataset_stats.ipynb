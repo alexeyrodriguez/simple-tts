{
 "cells": [
  {
   "cell_type": "code",
   "execution_count": 1,
   "id": "153a3360",
   "metadata": {},
   "outputs": [
    {
     "name": "stdout",
     "output_type": "stream",
     "text": [
      "Metal device set to: Apple M1 Pro\n"
     ]
    },
    {
     "name": "stderr",
     "output_type": "stream",
     "text": [
      "2022-05-12 01:14:43.399318: I tensorflow/core/common_runtime/pluggable_device/pluggable_device_factory.cc:305] Could not identify NUMA node of platform GPU ID 0, defaulting to 0. Your kernel may not have been built with NUMA support.\n",
      "2022-05-12 01:14:43.399443: I tensorflow/core/common_runtime/pluggable_device/pluggable_device_factory.cc:271] Created TensorFlow device (/job:localhost/replica:0/task:0/device:GPU:0 with 0 MB memory) -> physical PluggableDevice (device: 0, name: METAL, pci bus id: <undefined>)\n"
     ]
    }
   ],
   "source": [
    "%load_ext autoreload\n",
    "%autoreload 2\n",
    "\n",
    "\n",
    "from functools import partial\n",
    "import matplotlib.pyplot as plt\n",
    "import numpy as np\n",
    "import pandas as pd\n",
    "import IPython\n",
    "import tensorflow as tf\n",
    "\n",
    "import prepare_data\n",
    "import training\n",
    "import utils\n",
    "import models\n",
    "import gin\n",
    "\n",
    "gin.parse_config_file('config/training.gin')\n",
    "gin.enter_interactive_mode()\n",
    "\n",
    "fft_length = gin.query_parameter('%fft_length')\n",
    "frame_length = gin.query_parameter('%frame_length')\n",
    "frame_step = gin.query_parameter('%frame_step')\n",
    "sample_rate = gin.query_parameter('%sample_rate')\n",
    "\n",
    "frames_threshold = sample_rate * 4 / frame_step"
   ]
  },
  {
   "cell_type": "code",
   "execution_count": 8,
   "id": "1c6e49a2",
   "metadata": {},
   "outputs": [],
   "source": [
    "train_dataset, _ = prepare_data.datasets(batch_size=1, prefetch=False, take_batches=None, frames_threshold=None)\n",
    "\n",
    "frame_lengths = []\n",
    "transcription_lengths = []\n",
    "\n",
    "for spectrograms, _mel_spectrograms, transcription in iter(train_dataset):\n",
    "    frame_lengths.append(tf.shape(spectrograms)[1].numpy())\n",
    "    transcription_lengths.append(tf.shape(transcription)[1].numpy())\n",
    "    \n",
    "df = pd.DataFrame({'frames': frame_lengths, 'chars': transcription_lengths})"
   ]
  },
  {
   "cell_type": "code",
   "execution_count": 9,
   "id": "08e325c8",
   "metadata": {},
   "outputs": [],
   "source": [
    "df['secs'] = df.frames / (sample_rate * 1.0 / frame_step)"
   ]
  },
  {
   "cell_type": "code",
   "execution_count": 10,
   "id": "52a5d7d8",
   "metadata": {},
   "outputs": [
    {
     "data": {
      "text/html": [
       "<div>\n",
       "<style scoped>\n",
       "    .dataframe tbody tr th:only-of-type {\n",
       "        vertical-align: middle;\n",
       "    }\n",
       "\n",
       "    .dataframe tbody tr th {\n",
       "        vertical-align: top;\n",
       "    }\n",
       "\n",
       "    .dataframe thead th {\n",
       "        text-align: right;\n",
       "    }\n",
       "</style>\n",
       "<table border=\"1\" class=\"dataframe\">\n",
       "  <thead>\n",
       "    <tr style=\"text-align: right;\">\n",
       "      <th></th>\n",
       "      <th>frames</th>\n",
       "      <th>chars</th>\n",
       "      <th>secs</th>\n",
       "    </tr>\n",
       "  </thead>\n",
       "  <tbody>\n",
       "    <tr>\n",
       "      <th>0</th>\n",
       "      <td>3323</td>\n",
       "      <td>151</td>\n",
       "      <td>13.292</td>\n",
       "    </tr>\n",
       "    <tr>\n",
       "      <th>1</th>\n",
       "      <td>651</td>\n",
       "      <td>30</td>\n",
       "      <td>2.604</td>\n",
       "    </tr>\n",
       "    <tr>\n",
       "      <th>2</th>\n",
       "      <td>3327</td>\n",
       "      <td>155</td>\n",
       "      <td>13.308</td>\n",
       "    </tr>\n",
       "    <tr>\n",
       "      <th>3</th>\n",
       "      <td>1767</td>\n",
       "      <td>89</td>\n",
       "      <td>7.068</td>\n",
       "    </tr>\n",
       "    <tr>\n",
       "      <th>4</th>\n",
       "      <td>2791</td>\n",
       "      <td>143</td>\n",
       "      <td>11.164</td>\n",
       "    </tr>\n",
       "  </tbody>\n",
       "</table>\n",
       "</div>"
      ],
      "text/plain": [
       "   frames  chars    secs\n",
       "0    3323    151  13.292\n",
       "1     651     30   2.604\n",
       "2    3327    155  13.308\n",
       "3    1767     89   7.068\n",
       "4    2791    143  11.164"
      ]
     },
     "execution_count": 10,
     "metadata": {},
     "output_type": "execute_result"
    }
   ],
   "source": [
    "df.head()"
   ]
  },
  {
   "cell_type": "code",
   "execution_count": 11,
   "id": "d0f42731",
   "metadata": {},
   "outputs": [
    {
     "data": {
      "text/plain": [
       "<AxesSubplot:>"
      ]
     },
     "execution_count": 11,
     "metadata": {},
     "output_type": "execute_result"
    },
    {
     "data": {
      "image/png": "[encoded data removed]",
      "text/plain": [
       "<Figure size 432x288 with 1 Axes>"
      ]
     },
     "metadata": {
      "needs_background": "light"
     },
     "output_type": "display_data"
    }
   ],
   "source": [
    "df.chars.hist(bins=100)"
   ]
  },
  {
   "cell_type": "code",
   "execution_count": 12,
   "id": "cc2fdf60",
   "metadata": {},
   "outputs": [
    {
     "data": {
      "text/plain": [
       "<AxesSubplot:>"
      ]
     },
     "execution_count": 12,
     "metadata": {},
     "output_type": "execute_result"
    },
    {
     "data": {
      "image/png": "[encoded data removed]",
      "text/plain": [
       "<Figure size 432x288 with 1 Axes>"
      ]
     },
     "metadata": {
      "needs_background": "light"
     },
     "output_type": "display_data"
    }
   ],
   "source": [
    "df.secs.hist(bins=100)"
   ]
  },
  {
   "cell_type": "code",
   "execution_count": 16,
   "id": "dc48be4b",
   "metadata": {},
   "outputs": [
    {
     "data": {
      "text/plain": [
       "<AxesSubplot:>"
      ]
     },
     "execution_count": 16,
     "metadata": {},
     "output_type": "execute_result"
    },
    {
     "data": {
      "image/png": "[encoded data removed]",
      "text/plain": [
       "<Figure size 432x288 with 1 Axes>"
      ]
     },
     "metadata": {
      "needs_background": "light"
     },
     "output_type": "display_data"
    }
   ],
   "source": [
    "df.frames.hist(bins=100)"
   ]
  },
  {
   "cell_type": "code",
   "execution_count": 13,
   "id": "0decc1ef",
   "metadata": {},
   "outputs": [
    {
     "data": {
      "text/plain": [
       "<matplotlib.collections.PathCollection at 0x2b4f72250>"
      ]
     },
     "execution_count": 13,
     "metadata": {},
     "output_type": "execute_result"
    },
    {
     "data": {
      "image/png": "[encoded data removed]",
      "text/plain": [
       "<Figure size 432x288 with 1 Axes>"
      ]
     },
     "metadata": {
      "needs_background": "light"
     },
     "output_type": "display_data"
    }
   ],
   "source": [
    "plt.scatter(df.chars, df.secs)"
   ]
  },
  {
   "cell_type": "code",
   "execution_count": 14,
   "id": "e01049f1",
   "metadata": {},
   "outputs": [
    {
     "data": {
      "text/plain": [
       "count    1388.000000\n",
       "mean       42.027378\n",
       "std        11.932789\n",
       "min        12.000000\n",
       "25%        34.000000\n",
       "50%        43.000000\n",
       "75%        51.000000\n",
       "max        72.000000\n",
       "Name: chars, dtype: float64"
      ]
     },
     "execution_count": 14,
     "metadata": {},
     "output_type": "execute_result"
    }
   ],
   "source": [
    "# We might want to start training on small samples first\n",
    "\n",
    "df[df.secs <= 5].chars.describe()"
   ]
  },
  {
   "cell_type": "code",
   "execution_count": 15,
   "id": "1b130bc4",
   "metadata": {},
   "outputs": [
    {
     "data": {
      "text/plain": [
       "count    1739.000000\n",
       "mean        4.151216\n",
       "std         1.177858\n",
       "min         1.516000\n",
       "25%         3.372000\n",
       "50%         4.220000\n",
       "75%         4.972000\n",
       "max        12.108000\n",
       "Name: secs, dtype: float64"
      ]
     },
     "execution_count": 15,
     "metadata": {},
     "output_type": "execute_result"
    }
   ],
   "source": [
    "# Probably we would still like a threshold on the time (number of samples)\n",
    "# To avoid too large batches in the case of outliers\n",
    "\n",
    "df[df.chars <= 60].secs.describe()"
   ]
  },
  {
   "cell_type": "code",
   "execution_count": null,
   "id": "198ae6b7",
   "metadata": {},
   "outputs": [],
   "source": []
  }
 ],
 "metadata": {
  "kernelspec": {
   "display_name": "Python 3 (ipykernel)",
   "language": "python",
   "name": "python3"
  },
  "language_info": {
   "codemirror_mode": {
    "name": "ipython",
    "version": 3
   },
   "file_extension": ".py",
   "mimetype": "text/x-python",
   "name": "python",
   "nbconvert_exporter": "python",
   "pygments_lexer": "ipython3",
   "version": "3.9.12"
  }
 },
 "nbformat": 4,
 "nbformat_minor": 5
}
